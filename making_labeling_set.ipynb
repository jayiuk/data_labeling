{
 "cells": [
  {
   "cell_type": "code",
   "execution_count": 1,
   "metadata": {},
   "outputs": [],
   "source": [
    "import os\n",
    "import random\n",
    "import shutil"
   ]
  },
  {
   "cell_type": "code",
   "execution_count": 2,
   "metadata": {},
   "outputs": [],
   "source": [
    "source_folder = os.environ['file_path']\n",
    "destination_folder = os.environ['des']"
   ]
  },
  {
   "cell_type": "code",
   "execution_count": 3,
   "metadata": {},
   "outputs": [],
   "source": [
    "all_files = os.listdir(source_folder)\n",
    "image = [file for file in all_files if file.lower().endswith(('.png', '.jpg', 'jpeg'))]"
   ]
  },
  {
   "cell_type": "code",
   "execution_count": 5,
   "metadata": {},
   "outputs": [
    {
     "name": "stdout",
     "output_type": "stream",
     "text": [
      "copy done300 2 D:\\age_data\\label_set\n"
     ]
    }
   ],
   "source": [
    "num_copy = 300\n",
    "if len(image) > num_copy:\n",
    "    selected_files = random.sample(image, num_copy)\n",
    "else : \n",
    "    selected_files = image\n",
    "for file_name in selected_files:\n",
    "    source_file = os.path.join(source_folder, file_name)\n",
    "    destination_file = os.path.join(destination_folder, file_name)\n",
    "    shutil.copy2(source_file, destination_file)\n",
    "\n",
    "print(f\"copy done{len(selected_files)} 2 {destination_folder}\")"
   ]
  },
  {
   "cell_type": "code",
   "execution_count": null,
   "metadata": {},
   "outputs": [],
   "source": []
  }
 ],
 "metadata": {
  "kernelspec": {
   "display_name": "base",
   "language": "python",
   "name": "python3"
  },
  "language_info": {
   "codemirror_mode": {
    "name": "ipython",
    "version": 3
   },
   "file_extension": ".py",
   "mimetype": "text/x-python",
   "name": "python",
   "nbconvert_exporter": "python",
   "pygments_lexer": "ipython3",
   "version": "3.11.7"
  }
 },
 "nbformat": 4,
 "nbformat_minor": 2
}
